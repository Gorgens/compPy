{
 "cells": [
  {
   "cell_type": "markdown",
   "metadata": {
    "colab_type": "text",
    "id": "qYmkdyZDAR4U"
   },
   "source": [
    "# Objetos e operadores\n",
    "\n",
    "Variável é qualquer característica ou atributo que possa ter diferentes\n",
    "valores quando se observam diferentes indivíduos. Já o termo dado se refere ao valor assumido pela variável quando se examina um indivíduo. \n",
    "\n",
    "O R possui diferentes formas de armazenar dados. Em geral, variáveis são entidades usadas para armazenar dados na memória do computador. Uma variável precisa ser associada à um objeto, que determina caracterís-\n",
    "ticas específicas que irão influenciar o que se pode ou não pode fazer com os dados. Uma variável que for criada como matriz (objeto matriz), não possui as mesmas propriedades de uma variável criada como lista (objeto lista). Não é possível somar uma variável salva como objeto numérico com uma variável salva como objeto texto, já que estes dois objetos não possuem as mesmas propriedades. \n",
    "\n",
    "Testes estatísticos específicos são utilizados dependendo se as variá-\n",
    "veis em questão são contínuas ou categóricas. Diferentemente das variáveis categóricas, as variáveis contínuas são expressas por números com significados em uma escala numérica. \n",
    "\n",
    "Os dados podem ser definidos como numéricos (inteiros ou decimais), texto ('string') ou lógicos. Alguns objetos permitem que diferentes tipos de dados sejam armazenados ao mesmo tempo. Outros objetos permitem que apenas um tipo de dado possa ser armazenado.\n",
    "\n"
   ]
  },
  {
   "cell_type": "markdown",
   "metadata": {
    "colab_type": "text",
    "id": "I-0TeWPAA003"
   },
   "source": [
    "## Lista"
   ]
  },
  {
   "cell_type": "code",
   "execution_count": null,
   "metadata": {
    "colab": {},
    "colab_type": "code",
    "id": "fh1ysh1s_06r"
   },
   "outputs": [],
   "source": []
  },
  {
   "cell_type": "markdown",
   "metadata": {
    "colab_type": "text",
    "id": "RH3hinDBA2cb"
   },
   "source": [
    "## Dicionário"
   ]
  },
  {
   "cell_type": "code",
   "execution_count": null,
   "metadata": {
    "colab": {},
    "colab_type": "code",
    "id": "klsq9AGjA5gO"
   },
   "outputs": [],
   "source": []
  },
  {
   "cell_type": "markdown",
   "metadata": {
    "colab_type": "text",
    "id": "kFTBOWU-A5zb"
   },
   "source": [
    "## Pandas Dataframe\n",
    "\n",
    "O módulo *pandas* foi desenvolvido em Python para a manipulação e análise de dados. É um pacote destinado para oferecer solução para dados estruturados, tabelas numericas e séries temporais.O nome *pandas* é um acrônimo para **pan**el **da**ta, que no português seria painel de dados."
   ]
  },
  {
   "cell_type": "code",
   "execution_count": 1,
   "metadata": {},
   "outputs": [],
   "source": [
    "import pandas as pd"
   ]
  },
  {
   "cell_type": "code",
   "execution_count": 6,
   "metadata": {
    "colab": {},
    "colab_type": "code",
    "id": "h10rMocNA-7k"
   },
   "outputs": [
    {
     "data": {
      "text/html": [
       "<div>\n",
       "<style scoped>\n",
       "    .dataframe tbody tr th:only-of-type {\n",
       "        vertical-align: middle;\n",
       "    }\n",
       "\n",
       "    .dataframe tbody tr th {\n",
       "        vertical-align: top;\n",
       "    }\n",
       "\n",
       "    .dataframe thead th {\n",
       "        text-align: right;\n",
       "    }\n",
       "</style>\n",
       "<table border=\"1\" class=\"dataframe\">\n",
       "  <thead>\n",
       "    <tr style=\"text-align: right;\">\n",
       "      <th></th>\n",
       "      <th>Processo Outorga</th>\n",
       "      <th>Portaria</th>\n",
       "      <th>Data de Publicação</th>\n",
       "      <th>Data de Vencimento da Portaria</th>\n",
       "      <th>Status Processo</th>\n",
       "      <th>Empreendedor</th>\n",
       "      <th>CPF_CNPJ Empreendedor</th>\n",
       "      <th>Endereço Empreendedor</th>\n",
       "      <th>Número Empreendedor</th>\n",
       "      <th>Complemento Empreendedor</th>\n",
       "      <th>...</th>\n",
       "      <th>Num_FOB</th>\n",
       "      <th>Ano_FOB</th>\n",
       "      <th>OBS_VALOR_COBRANCA</th>\n",
       "      <th>VALOR_LICENCIAMENTO</th>\n",
       "      <th>VALOR_ANALISE</th>\n",
       "      <th>VALOR_IGAM</th>\n",
       "      <th>VALOR_LICENCIAMENTO_IEF</th>\n",
       "      <th>Unidade de Análise</th>\n",
       "      <th>Natureza_Outorga</th>\n",
       "      <th>Portaria_Renovada_Retificada</th>\n",
       "    </tr>\n",
       "  </thead>\n",
       "  <tbody>\n",
       "    <tr>\n",
       "      <th>0</th>\n",
       "      <td>15106/2009</td>\n",
       "      <td>NaN</td>\n",
       "      <td>NaN</td>\n",
       "      <td>NaN</td>\n",
       "      <td>AUTORIZAÇÃO DE PERFURAÇÃO CONCEDIDA</td>\n",
       "      <td>PREFEITURA MUNICIPAL DE FELÍCIO DOS SANTOS</td>\n",
       "      <td>17754201000187</td>\n",
       "      <td>RUA FELICIANO CANUTO</td>\n",
       "      <td>73</td>\n",
       "      <td>NaN</td>\n",
       "      <td>...</td>\n",
       "      <td>694167</td>\n",
       "      <td>2009</td>\n",
       "      <td>NaN</td>\n",
       "      <td>0.0</td>\n",
       "      <td>0.0</td>\n",
       "      <td>69.0</td>\n",
       "      <td>0.0</td>\n",
       "      <td>SUPRAMJEQUI</td>\n",
       "      <td>Novo Processo</td>\n",
       "      <td>NaN</td>\n",
       "    </tr>\n",
       "    <tr>\n",
       "      <th>1</th>\n",
       "      <td>04343/2008</td>\n",
       "      <td>NaN</td>\n",
       "      <td>NaN</td>\n",
       "      <td>NaN</td>\n",
       "      <td>AUTORIZAÇÃO DE PERFURAÇÃO CONCEDIDA</td>\n",
       "      <td>COMPANHIA DE SANEAMENTO DE MINAS GERAIS  - COPASA</td>\n",
       "      <td>37597200837</td>\n",
       "      <td>RUA MAR DE ESPANHA</td>\n",
       "      <td>453</td>\n",
       "      <td>NaN</td>\n",
       "      <td>...</td>\n",
       "      <td>283295</td>\n",
       "      <td>2008</td>\n",
       "      <td>NaN</td>\n",
       "      <td>0.0</td>\n",
       "      <td>0.0</td>\n",
       "      <td>69.0</td>\n",
       "      <td>0.0</td>\n",
       "      <td>DVRC-TEC</td>\n",
       "      <td>Novo Processo</td>\n",
       "      <td>NaN</td>\n",
       "    </tr>\n",
       "    <tr>\n",
       "      <th>2</th>\n",
       "      <td>04362/2008</td>\n",
       "      <td>NaN</td>\n",
       "      <td>NaN</td>\n",
       "      <td>NaN</td>\n",
       "      <td>AUTORIZAÇÃO DE PERFURAÇÃO CONCEDIDA</td>\n",
       "      <td>COMPANHIA DE SANEAMENTO DE MINAS GERAIS  - COPASA</td>\n",
       "      <td>37597200837</td>\n",
       "      <td>RUA MAR DE ESPANHA</td>\n",
       "      <td>453</td>\n",
       "      <td>NaN</td>\n",
       "      <td>...</td>\n",
       "      <td>289658</td>\n",
       "      <td>2008</td>\n",
       "      <td>NaN</td>\n",
       "      <td>0.0</td>\n",
       "      <td>0.0</td>\n",
       "      <td>69.0</td>\n",
       "      <td>0.0</td>\n",
       "      <td>DVRC-TEC</td>\n",
       "      <td>Novo Processo</td>\n",
       "      <td>NaN</td>\n",
       "    </tr>\n",
       "    <tr>\n",
       "      <th>3</th>\n",
       "      <td>04363/2008</td>\n",
       "      <td>NaN</td>\n",
       "      <td>NaN</td>\n",
       "      <td>NaN</td>\n",
       "      <td>AUTORIZAÇÃO DE PERFURAÇÃO CONCEDIDA</td>\n",
       "      <td>COMPANHIA DE SANEAMENTO DE MINAS GERAIS  - COPASA</td>\n",
       "      <td>37597200837</td>\n",
       "      <td>RUA MAR DE ESPANHA</td>\n",
       "      <td>453</td>\n",
       "      <td>NaN</td>\n",
       "      <td>...</td>\n",
       "      <td>289679</td>\n",
       "      <td>2008</td>\n",
       "      <td>NaN</td>\n",
       "      <td>0.0</td>\n",
       "      <td>0.0</td>\n",
       "      <td>69.0</td>\n",
       "      <td>0.0</td>\n",
       "      <td>DVRC-TEC</td>\n",
       "      <td>Novo Processo</td>\n",
       "      <td>NaN</td>\n",
       "    </tr>\n",
       "    <tr>\n",
       "      <th>4</th>\n",
       "      <td>09152/2009</td>\n",
       "      <td>NaN</td>\n",
       "      <td>NaN</td>\n",
       "      <td>NaN</td>\n",
       "      <td>AUTORIZAÇÃO DE PERFURAÇÃO CONCEDIDA</td>\n",
       "      <td>COMPANHIA DE SANEAMENTO DE MINAS GERAIS  - COPASA</td>\n",
       "      <td>37597200837</td>\n",
       "      <td>RUA MAR DE ESPANHA</td>\n",
       "      <td>453</td>\n",
       "      <td>NaN</td>\n",
       "      <td>...</td>\n",
       "      <td>246342</td>\n",
       "      <td>2009</td>\n",
       "      <td>NaN</td>\n",
       "      <td>0.0</td>\n",
       "      <td>0.0</td>\n",
       "      <td>138.0</td>\n",
       "      <td>0.0</td>\n",
       "      <td>DVRC-TEC</td>\n",
       "      <td>Novo Processo</td>\n",
       "      <td>NaN</td>\n",
       "    </tr>\n",
       "  </tbody>\n",
       "</table>\n",
       "<p>5 rows × 110 columns</p>\n",
       "</div>"
      ],
      "text/plain": [
       "  Processo Outorga Portaria Data de Publicação Data de Vencimento da Portaria  \\\n",
       "0       15106/2009      NaN                NaN                            NaN   \n",
       "1       04343/2008      NaN                NaN                            NaN   \n",
       "2       04362/2008      NaN                NaN                            NaN   \n",
       "3       04363/2008      NaN                NaN                            NaN   \n",
       "4       09152/2009      NaN                NaN                            NaN   \n",
       "\n",
       "                       Status Processo  \\\n",
       "0  AUTORIZAÇÃO DE PERFURAÇÃO CONCEDIDA   \n",
       "1  AUTORIZAÇÃO DE PERFURAÇÃO CONCEDIDA   \n",
       "2  AUTORIZAÇÃO DE PERFURAÇÃO CONCEDIDA   \n",
       "3  AUTORIZAÇÃO DE PERFURAÇÃO CONCEDIDA   \n",
       "4  AUTORIZAÇÃO DE PERFURAÇÃO CONCEDIDA   \n",
       "\n",
       "                                        Empreendedor  CPF_CNPJ Empreendedor  \\\n",
       "0         PREFEITURA MUNICIPAL DE FELÍCIO DOS SANTOS         17754201000187   \n",
       "1  COMPANHIA DE SANEAMENTO DE MINAS GERAIS  - COPASA            37597200837   \n",
       "2  COMPANHIA DE SANEAMENTO DE MINAS GERAIS  - COPASA            37597200837   \n",
       "3  COMPANHIA DE SANEAMENTO DE MINAS GERAIS  - COPASA            37597200837   \n",
       "4  COMPANHIA DE SANEAMENTO DE MINAS GERAIS  - COPASA            37597200837   \n",
       "\n",
       "  Endereço Empreendedor Número Empreendedor Complemento Empreendedor  ...  \\\n",
       "0  RUA FELICIANO CANUTO                  73                      NaN  ...   \n",
       "1    RUA MAR DE ESPANHA                 453                      NaN  ...   \n",
       "2    RUA MAR DE ESPANHA                 453                      NaN  ...   \n",
       "3    RUA MAR DE ESPANHA                 453                      NaN  ...   \n",
       "4    RUA MAR DE ESPANHA                 453                      NaN  ...   \n",
       "\n",
       "  Num_FOB Ano_FOB OBS_VALOR_COBRANCA VALOR_LICENCIAMENTO VALOR_ANALISE  \\\n",
       "0  694167    2009                NaN                 0.0           0.0   \n",
       "1  283295    2008                NaN                 0.0           0.0   \n",
       "2  289658    2008                NaN                 0.0           0.0   \n",
       "3  289679    2008                NaN                 0.0           0.0   \n",
       "4  246342    2009                NaN                 0.0           0.0   \n",
       "\n",
       "  VALOR_IGAM VALOR_LICENCIAMENTO_IEF  Unidade de Análise Natureza_Outorga  \\\n",
       "0       69.0                     0.0         SUPRAMJEQUI    Novo Processo   \n",
       "1       69.0                     0.0            DVRC-TEC    Novo Processo   \n",
       "2       69.0                     0.0            DVRC-TEC    Novo Processo   \n",
       "3       69.0                     0.0            DVRC-TEC    Novo Processo   \n",
       "4      138.0                     0.0            DVRC-TEC    Novo Processo   \n",
       "\n",
       "  Portaria_Renovada_Retificada  \n",
       "0                          NaN  \n",
       "1                          NaN  \n",
       "2                          NaN  \n",
       "3                          NaN  \n",
       "4                          NaN  \n",
       "\n",
       "[5 rows x 110 columns]"
      ]
     },
     "execution_count": 6,
     "metadata": {},
     "output_type": "execute_result"
    }
   ],
   "source": [
    "outorgas = pd.read_csv('outorgas.csv', encoding='utf8')"
   ]
  },
  {
   "cell_type": "code",
   "execution_count": null,
   "metadata": {},
   "outputs": [],
   "source": [
    "outorgas.head()"
   ]
  },
  {
   "cell_type": "code",
   "execution_count": 4,
   "metadata": {},
   "outputs": [
    {
     "name": "stdout",
     "output_type": "stream",
     "text": [
      "(131, 110)\n"
     ]
    }
   ],
   "source": [
    "print(outorgas.shape)\n",
    "for col in outorgas.columns:\n",
    "    print(col)\n",
    "\n",
    "print(outorgas['Vazao Jan'].head())\n",
    "print(outorgas['Tipo'].unique())\n",
    "\n",
    "print(outorgas.filter(items=['Tipo', 'Vazao Jan'])\n",
    "    .groupby('Tipo')\n",
    "    .sum())"
   ]
  },
  {
   "cell_type": "markdown",
   "metadata": {
    "colab_type": "text",
    "id": "7oEuTKzuA-Wc"
   },
   "source": []
  }
 ],
 "metadata": {
  "colab": {
   "authorship_tag": "ABX9TyNGewK74eiaHH0TO/BSJHPe",
   "name": "Cap2_Objetos.ipynb",
   "provenance": []
  },
  "kernelspec": {
   "display_name": "Python 3",
   "language": "python",
   "name": "python3"
  },
  "language_info": {
   "codemirror_mode": {
    "name": "ipython",
    "version": 3
   },
   "file_extension": ".py",
   "mimetype": "text/x-python",
   "name": "python",
   "nbconvert_exporter": "python",
   "pygments_lexer": "ipython3",
   "version": "3.7.7"
  }
 },
 "nbformat": 4,
 "nbformat_minor": 1
}
